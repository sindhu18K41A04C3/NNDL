{
  "nbformat": 4,
  "nbformat_minor": 0,
  "metadata": {
    "colab": {
      "name": "Assignment 02.ipynb",
      "provenance": [],
      "collapsed_sections": [],
      "authorship_tag": "ABX9TyOAewAhCVdzSZcKgPKxqA/1"
    },
    "kernelspec": {
      "name": "python3",
      "display_name": "Python 3"
    },
    "language_info": {
      "name": "python"
    }
  },
  "cells": [
    {
      "cell_type": "markdown",
      "metadata": {
        "id": "bu9h-rPQFoyD"
      },
      "source": [
        "Find the global minimum point and value for the function f(x,y)= x^2 + y^2 +10. Do manual calculations for two iterations. Find the optimal solution using python programming."
      ]
    },
    {
      "cell_type": "code",
      "metadata": {
        "colab": {
          "base_uri": "https://localhost:8080/"
        },
        "id": "x-QfXBDcFtyy",
        "outputId": "cff2d002-f23c-42e0-9609-346076ca9820"
      },
      "source": [
        "import random\n",
        "x=int(random.randint(-10,10))   #initiallizing a variable value for x randomly\n",
        "y=int(random.randint(-10,10))   #initiallizing a variable value for y randomly\n",
        "epochs = 1000                   #maximum no of iterations\n",
        "learning_rate = 0.001           #considering learning rate b/w 0 and 1\n",
        "for i in range(1,(epochs+1),1): #repeating loop\n",
        "  gx =2*x                    #calculating gradiant/first oredr derivative/slope\n",
        "  gy =2*y\n",
        "  deltax = -(learning_rate*gx)   # finding changing variable value\n",
        "  deltay = -(learning_rate*gy)   # finding changing variable value\n",
        "  x = x + deltax                #updating changing variable value\n",
        "  y = y+deltay                    #updating changing variable value\n",
        "\n",
        "f= (x**2)+(y**2)+10           #finding optimal solution\n",
        "print(\"The global minimum point is: ({},{})\".format(int(x),int(y)))\n",
        "print(\"Minimum Value for the given function is:\",int(f),\"at x=\",int(x),\"and at y=\",int(y))                  \n"
      ],
      "execution_count": 22,
      "outputs": [
        {
          "output_type": "stream",
          "text": [
            "The global minimum point is: (0,0)\n",
            "Minimum Value for the given function is: 10 at x= 0 and at y= 0\n"
          ],
          "name": "stdout"
        }
      ]
    }
  ]
}