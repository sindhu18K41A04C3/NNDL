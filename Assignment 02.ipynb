{
  "nbformat": 4,
  "nbformat_minor": 0,
  "metadata": {
    "colab": {
      "name": "Assignment-1",
      "provenance": [],
      "collapsed_sections": [],
      "authorship_tag": "ABX9TyM0h1bS9kzIc4KA/v0KR+Ju"
    },
    "kernelspec": {
      "name": "python3",
      "display_name": "Python 3"
    }
  },
  "cells": [
    {
      "cell_type": "markdown",
      "metadata": {
        "id": "6gJx5jbIonXB"
      },
      "source": [
        "Assignment-02:\n",
        "Find the global minimum point and value for the function f(x) = x^4 + 3x^2 + 10\n",
        "> Do manual calculations for two iterations. \n",
        ">Find the optimal solution using python programming.\n",
        "Ans: Minimum value of f(x) =10 at x=0\n"
      ]
    },
    {
      "cell_type": "code",
      "metadata": {
        "colab": {
          "base_uri": "https://localhost:8080/"
        },
        "id": "NWN7-_ryl69X",
        "outputId": "5dfc9f6c-cedb-4d08-af71-a706340dc58b"
      },
      "source": [
        "import random\n",
        "x=int(random.randint(-10,10))   #initiallizing a variable value randomly\n",
        "epochs = 1000                   #maximum no of iterations\n",
        "learning_rate = 0.001           #considering learning rate b/w 0 and 1\n",
        "for i in range(1,(epochs+1),1): #repeating loop\n",
        "  y =(4*(x**3))+(6*x)           #calculating gradiant/first oredr derivative/slope\n",
        "  deltax = -(learning_rate*y)   # finding changing variable value\n",
        "  x = x + deltax                #updating changing variable value\n",
        "  \n",
        "f= (x**4)+(3*(x**2))+10         #finding optimal solution\n",
        "print(\"The global minimum point is: ({},{})\".format(int(x),int(f)))\n",
        "print(\"Minimum Value for the given function is:\",int(f),\"at x=\",int(x))                  \n"
      ],
      "execution_count": null,
      "outputs": [
        {
          "output_type": "stream",
          "text": [
            "The global minimum point is: (0,10)\n",
            "Minimum Value for the given function is: 10 at x= 0\n"
          ],
          "name": "stdout"
        }
      ]
    }
  ]
}