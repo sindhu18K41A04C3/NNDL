{
  "nbformat": 4,
  "nbformat_minor": 0,
  "metadata": {
    "colab": {
      "name": "Assignment - 2",
      "provenance": [],
      "collapsed_sections": []
    },
    "kernelspec": {
      "name": "python3",
      "display_name": "Python 3"
    }
  },
  "cells": [
    {
      "cell_type": "markdown",
      "metadata": {
        "id": "j_9L7pBYRExm"
      },
      "source": [
        "Find the global minimum point and value for the function f(x,y)= x^2 + y^2 +10. \n",
        "Do manual calculations for two iterations.\n",
        "Find the optimal solution using python programming.\n"
      ]
    },
    {
      "cell_type": "code",
      "metadata": {
        "colab": {
          "base_uri": "https://localhost:8080/"
        },
        "id": "hHEvzuNpRGkr",
        "outputId": "aef4902b-a39c-4f14-da44-23125c2a8931"
      },
      "source": [
        "x=-1\n",
        "y=1\n",
        "epochs=100  #epochs\n",
        "l=0.01      #learning rate\n",
        "for i in range(epochs):\n",
        "  fx=2*x\n",
        "  fy=2*y\n",
        "  d_x=-(l)*(fx)\n",
        "  d_y=-(l)*(fy)\n",
        "  x=x+d_x\n",
        "  y=y+d_y\n",
        "print(\"The local minimum occurs at x = %.2f\"%(x),\"y = %.2f\"%(y))\n",
        "print(\"Minimum value of f(x)=%.2f\"%((x**2)+(y**2)+10))"
      ],
      "execution_count": null,
      "outputs": [
        {
          "output_type": "stream",
          "text": [
            "The local minimum occurs at x = -0.13 y = 0.13\n",
            "Minimum value of f(x)=10.04\n"
          ],
          "name": "stdout"
        }
      ]
    },
    {
      "cell_type": "code",
      "metadata": {
        "colab": {
          "base_uri": "https://localhost:8080/"
        },
        "id": "zuCg0avHVOi4",
        "outputId": "b44981bf-0589-43fa-b94b-9fb17dce44e5"
      },
      "source": [
        "import random\n",
        "x=random.randint(-10,11)    #random x variable\n",
        "y=random.randint(-10,11)    #random y variable\n",
        "print(\"Given Variable x=\",x)\n",
        "print(\"Given Variable y=\",y)\n",
        "l=0.001  # learning rate\n",
        "e=0.00001  #when to stop algorithm\n",
        "d_x=1\n",
        "d_y=1\n",
        "m_i=1000 #maximum no. of iterations\n",
        "i=0   #iteration counter\n",
        "def derive(x,y):\n",
        "  x1=2*x\n",
        "  y1=2*y\n",
        "  return x1,y1\n",
        "while max(abs(d_x),abs(d_y))>e and i<m_i:\n",
        "  px=x\n",
        "  py=y\n",
        "  d_x,d_y=derive(px,py)\n",
        "  d_x=-l*d_x\n",
        "  d_y=-l*d_y\n",
        "  x=x+d_x  #Gradiant descent\n",
        "  y=y+d_y  #Gradiant descent\n",
        "  i=i+1    #iteration count\n",
        "print(\"The local minimum occurs at x = %.2f\"%(x),\"y = %.2f\"%(y))\n",
        "print(\"Minimum value of f(x)=%.2f\"%((x**2)+(y**2)+10))"
      ],
      "execution_count": null,
      "outputs": [
        {
          "output_type": "stream",
          "text": [
            "Given Variable x= -2\n",
            "Given Variable y= 4\n",
            "The local minimum occurs at x = -0.27 y = 0.54\n",
            "Minimum value of f(x)=10.36\n"
          ],
          "name": "stdout"
        }
      ]
    }
  ]
}