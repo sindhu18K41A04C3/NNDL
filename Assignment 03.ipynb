{
  "nbformat": 4,
  "nbformat_minor": 0,
  "metadata": {
    "colab": {
      "name": "Assignment 3((SGD)Stochastic gradient descent).ipynb",
      "provenance": [],
      "collapsed_sections": [],
      "authorship_tag": "ABX9TyOqOGIAKKEuRblxE5L1/b8K"
    },
    "kernelspec": {
      "name": "python3",
      "display_name": "Python 3"
    }
  },
  "cells": [
    {
      "cell_type": "code",
      "metadata": {
        "colab": {
          "base_uri": "https://localhost:8080/"
        },
        "id": "yYP2kT3BpbiD",
        "outputId": "0be52a23-4994-47de-8cf5-c4e7141f8df5"
      },
      "source": [
        "import numpy as np\n",
        "import pandas as pd\n",
        "d = pd.read_csv('/content/sample dataset.csv')\n",
        "print(d)\n",
        "x=np.array(d.iloc[:,1:2])\n",
        "y=np.array(d.iloc[:,2:3])\n",
        "#considering 90% of sample data as training data (i.e,first 3 values)\n",
        "length= (90*len(x))//100\n",
        "print(length)\n",
        "train_x = x[:length]\n",
        "train_y = y[:length]\n",
        "\n",
        "#considering 10% of sample data as testing data (i.e, last value)\n",
        "test_x = x[length:]\n",
        "test_y = y[length:]\n",
        "#print(len(train_x))\n",
        "#print(len(test_y))\n",
        "#Considering values for model parametres(m,c),eta and no of iterations (epochs)\n",
        "m=1\n",
        "c=1\n",
        "eta=0.1\n",
        "epochs=10000\n",
        "#calculating gradient desent for model parametres(m and c) \n",
        "#step size(deltam and deltac) \n",
        "#updating model parametres\n",
        "for i in range(epochs):\n",
        "  for j in range(len(train_x)):\n",
        "    temp= train_y[j]-(m*train_x[j])-c\n",
        "    gdm = -train_x[j]*temp\n",
        "    gdc = -temp\n",
        "    deltam = -eta*gdm\n",
        "    deltac = -eta*gdc\n",
        "    m = m + deltam\n",
        "    c = c + deltac\n",
        "#printing final model parametres(m and c) values  \n",
        "print(\"Final updated model parametres m = \",m,\"and c =\",c)\n",
        "\n",
        "# calculating Mean square error,Root mean square error and mean absolute error for training data set\n",
        "q = 0\n",
        "q1 =0\n",
        "for i in range(len(train_x)):\n",
        "  v=m*train_x[i]+c\n",
        "  z = int(train_y[i])-int(v)\n",
        "  q += z**2\n",
        "  q1 +=abs(z)\n",
        "\n",
        "mse_train = q/len(train_x)\n",
        "mae_train = q1/len(train_x)\n",
        "print(\"mean square error for tarined data:\",mse_train)\n",
        "print(\"Root mean square error for training data:\",mse_train**0.5)\n",
        "print(\"mean absolute error for trained dataset:\",mae_train)\n",
        "\n",
        "# calculating Mean square error,Root mean square error and mean absolute error for testing data set\n",
        "w =0\n",
        "w1=0\n",
        "for i in range(len(test_x)):\n",
        "  v=m*train_x[i]+c\n",
        "  z = int(train_y[i])-int(v)\n",
        "  w += z**2\n",
        "  w1 +=abs(z)\n",
        "\n",
        "mse_test = w/len(test_x)\n",
        "mae_test = w1/len(test_x)\n",
        "print(\"mean square error for test data:\",mse_test)\n",
        "print(\"Root mean square error for testing data:\",mse_test**0.5)\n",
        "print(\"mean absolute error for testing data:\",mae_test)\n",
        "\n",
        "\n",
        "# Deploying model  \n",
        "x_value =float(input(\"Enter value of x:\"))\n",
        "y_value = m*x_value+c\n",
        "print(\"y value for x= \",x_value,\"is: \",y_value)\n"
      ],
      "execution_count": 6,
      "outputs": [
        {
          "output_type": "stream",
          "text": [
            "   Sample    X    Y\n",
            "0       1  0.2  3.4\n",
            "1       2  0.4  3.8\n",
            "2       3  0.6  4.2\n",
            "3       4  0.8  4.6\n",
            "3\n",
            "Final updated model parametres m =  [2.] and c = [3.]\n",
            "mean square error for tarined data: 0.0\n",
            "Root mean square error for training data: 0.0\n",
            "mean absolute error for trained dataset: 0.0\n",
            "mean square error for test data: 0.0\n",
            "Root mean square error for testing data: 0.0\n",
            "mean absolute error for testing data: 0.0\n",
            "Enter value of x:0.8\n",
            "y value for x=  0.8 is:  [4.6]\n"
          ],
          "name": "stdout"
        }
      ]
    }
  ]
}