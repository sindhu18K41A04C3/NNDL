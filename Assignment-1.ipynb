{
  "nbformat": 4,
  "nbformat_minor": 0,
  "metadata": {
    "colab": {
      "name": "Assignment-1",
      "provenance": [],
      "collapsed_sections": [],
      "authorship_tag": "ABX9TyPuSbsBMH5CXWxsARBmVr9Z",
      "include_colab_link": true
    },
    "kernelspec": {
      "name": "python3",
      "display_name": "Python 3"
    }
  },
  "cells": [
    {
      "cell_type": "markdown",
      "metadata": {
        "id": "view-in-github",
        "colab_type": "text"
      },
      "source": [
        "<a href=\"https://colab.research.google.com/github/sindhu18K41A04C3/NNDL/blob/main/Assignment-1.ipynb\" target=\"_parent\"><img src=\"https://colab.research.google.com/assets/colab-badge.svg\" alt=\"Open In Colab\"/></a>"
      ]
    },
    {
      "cell_type": "markdown",
      "metadata": {
        "id": "6gJx5jbIonXB"
      },
      "source": [
        "Assignment-1:\r\n",
        "Find the global minimum point and value for the function f(x) = x^4 + 3x^2 + 10\r\n",
        "> Do manual calculations for two iterations. \r\n",
        ">Find the optimal solution using python programming.\r\n",
        "Ans: Minimum value of f(x) =10 at x=0\r\n"
      ]
    },
    {
      "cell_type": "code",
      "metadata": {
        "colab": {
          "base_uri": "https://localhost:8080/"
        },
        "id": "NWN7-_ryl69X",
        "outputId": "82a3d586-f565-462c-e3c5-8f9aac980ed2"
      },
      "source": [
        "x=10                            #initiallizing a variable value randomly\r\n",
        "epochs = 1000                  #maximum no of iterations\r\n",
        "learning_rate = 0.001           # considering learning rate b/w 0 and 1\r\n",
        "for i in range(1,(epochs+1),1): #repeating loop\r\n",
        "  y =(4*(x**3))+(6*x)           #calculating gradiant/first oredr derivative/slope\r\n",
        "  deltax = -(learning_rate*y)   # finding changing variable value\r\n",
        "  x = x + deltax                #updating changing variable value\r\n",
        "  \r\n",
        "f= (x**4)+(3*(x**2))+10         # finding optimal solution\r\n",
        "print(\"The global minimum point is: ({},{})\".format(int(x),int(f)))\r\n",
        "print(\"Minimum Value for the given function is:\",int(f),\"at x=\",int(x))                  \r\n"
      ],
      "execution_count": 18,
      "outputs": [
        {
          "output_type": "stream",
          "text": [
            "The global minimum point is: (0,10)\n",
            "Minimum Value for the given function is: 10 at x= 0\n"
          ],
          "name": "stdout"
        }
      ]
    }
  ]
}